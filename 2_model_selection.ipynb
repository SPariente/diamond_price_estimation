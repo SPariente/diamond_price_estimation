{
 "cells": [
  {
   "cell_type": "code",
   "execution_count": 1,
   "id": "66feffb2-e6b5-4afe-b244-a2f66c66c52a",
   "metadata": {},
   "outputs": [],
   "source": [
    "import numpy as np\n",
    "import pandas as pd\n",
    "import matplotlib.pyplot as plt\n",
    "import seaborn as sns\n",
    "from functions import *"
   ]
  },
  {
   "cell_type": "code",
   "execution_count": 2,
   "id": "bcba1eac-97e3-42ea-963f-6ed43fc32f3b",
   "metadata": {},
   "outputs": [],
   "source": [
    "from sklearn.model_selection import train_test_split, GridSearchCV\n",
    "from sklearn.preprocessing import StandardScaler, OneHotEncoder, OrdinalEncoder\n",
    "from sklearn.pipeline import Pipeline\n",
    "from sklearn.compose import ColumnTransformer, TransformedTargetRegressor, make_column_selector"
   ]
  },
  {
   "cell_type": "markdown",
   "id": "20a05c13-b4c3-488a-b20c-d8ceca84be11",
   "metadata": {},
   "source": [
    "# 2. Model selection"
   ]
  },
  {
   "cell_type": "markdown",
   "id": "1eabc997-25dd-48f2-bfec-681c18af450d",
   "metadata": {},
   "source": [
    "We will apply the lessons learned during the data exploration to our dataset, before looking into potential regression algorithms for our specific problem."
   ]
  },
  {
   "cell_type": "code",
   "execution_count": 3,
   "id": "c7196c90-1f34-4413-b844-c723d2a45032",
   "metadata": {},
   "outputs": [
    {
     "data": {
      "text/html": [
       "<div>\n",
       "<style scoped>\n",
       "    .dataframe tbody tr th:only-of-type {\n",
       "        vertical-align: middle;\n",
       "    }\n",
       "\n",
       "    .dataframe tbody tr th {\n",
       "        vertical-align: top;\n",
       "    }\n",
       "\n",
       "    .dataframe thead th {\n",
       "        text-align: right;\n",
       "    }\n",
       "</style>\n",
       "<table border=\"1\" class=\"dataframe\">\n",
       "  <thead>\n",
       "    <tr style=\"text-align: right;\">\n",
       "      <th></th>\n",
       "      <th>carat</th>\n",
       "      <th>cut</th>\n",
       "      <th>color</th>\n",
       "      <th>clarity</th>\n",
       "      <th>depth</th>\n",
       "      <th>table</th>\n",
       "      <th>price</th>\n",
       "      <th>x</th>\n",
       "      <th>y</th>\n",
       "      <th>z</th>\n",
       "    </tr>\n",
       "  </thead>\n",
       "  <tbody>\n",
       "    <tr>\n",
       "      <th>1</th>\n",
       "      <td>0.23</td>\n",
       "      <td>Ideal</td>\n",
       "      <td>E</td>\n",
       "      <td>SI2</td>\n",
       "      <td>61.5</td>\n",
       "      <td>55.0</td>\n",
       "      <td>326</td>\n",
       "      <td>3.95</td>\n",
       "      <td>3.98</td>\n",
       "      <td>2.43</td>\n",
       "    </tr>\n",
       "    <tr>\n",
       "      <th>2</th>\n",
       "      <td>0.21</td>\n",
       "      <td>Premium</td>\n",
       "      <td>E</td>\n",
       "      <td>SI1</td>\n",
       "      <td>59.8</td>\n",
       "      <td>61.0</td>\n",
       "      <td>326</td>\n",
       "      <td>3.89</td>\n",
       "      <td>3.84</td>\n",
       "      <td>2.31</td>\n",
       "    </tr>\n",
       "    <tr>\n",
       "      <th>3</th>\n",
       "      <td>0.23</td>\n",
       "      <td>Good</td>\n",
       "      <td>E</td>\n",
       "      <td>VS1</td>\n",
       "      <td>56.9</td>\n",
       "      <td>65.0</td>\n",
       "      <td>327</td>\n",
       "      <td>4.05</td>\n",
       "      <td>4.07</td>\n",
       "      <td>2.31</td>\n",
       "    </tr>\n",
       "    <tr>\n",
       "      <th>4</th>\n",
       "      <td>0.29</td>\n",
       "      <td>Premium</td>\n",
       "      <td>I</td>\n",
       "      <td>VS2</td>\n",
       "      <td>62.4</td>\n",
       "      <td>58.0</td>\n",
       "      <td>334</td>\n",
       "      <td>4.20</td>\n",
       "      <td>4.23</td>\n",
       "      <td>2.63</td>\n",
       "    </tr>\n",
       "    <tr>\n",
       "      <th>5</th>\n",
       "      <td>0.31</td>\n",
       "      <td>Good</td>\n",
       "      <td>J</td>\n",
       "      <td>SI2</td>\n",
       "      <td>63.3</td>\n",
       "      <td>58.0</td>\n",
       "      <td>335</td>\n",
       "      <td>4.34</td>\n",
       "      <td>4.35</td>\n",
       "      <td>2.75</td>\n",
       "    </tr>\n",
       "  </tbody>\n",
       "</table>\n",
       "</div>"
      ],
      "text/plain": [
       "   carat      cut color clarity  depth  table  price     x     y     z\n",
       "1   0.23    Ideal     E     SI2   61.5   55.0    326  3.95  3.98  2.43\n",
       "2   0.21  Premium     E     SI1   59.8   61.0    326  3.89  3.84  2.31\n",
       "3   0.23     Good     E     VS1   56.9   65.0    327  4.05  4.07  2.31\n",
       "4   0.29  Premium     I     VS2   62.4   58.0    334  4.20  4.23  2.63\n",
       "5   0.31     Good     J     SI2   63.3   58.0    335  4.34  4.35  2.75"
      ]
     },
     "execution_count": 3,
     "metadata": {},
     "output_type": "execute_result"
    }
   ],
   "source": [
    "diam_data = pd.read_csv('diamonds.csv', index_col = 0)\n",
    "diam_data.head()"
   ]
  },
  {
   "cell_type": "markdown",
   "id": "b6dc4f97-7e2c-4fb7-a796-953cd6a3cd4a",
   "metadata": {},
   "source": [
    "Our ultimate target is the price, which will be computed as $price/carat \\times weight$. For our model, the target will however be the price/carat."
   ]
  },
  {
   "cell_type": "code",
   "execution_count": 4,
   "id": "c3096a08-7688-4618-ae07-6b0d37837679",
   "metadata": {},
   "outputs": [
    {
     "data": {
      "text/plain": [
       "1    1417.391304\n",
       "2    1552.380952\n",
       "3    1421.739130\n",
       "4    1151.724138\n",
       "5    1080.645161\n",
       "dtype: float64"
      ]
     },
     "execution_count": 4,
     "metadata": {},
     "output_type": "execute_result"
    }
   ],
   "source": [
    "y = np.divide(diam_data['price'], diam_data['carat'])\n",
    "y.head()"
   ]
  },
  {
   "cell_type": "code",
   "execution_count": 5,
   "id": "94b20b81-35b7-456f-9249-0bce16f9cd2e",
   "metadata": {},
   "outputs": [
    {
     "data": {
      "text/html": [
       "<div>\n",
       "<style scoped>\n",
       "    .dataframe tbody tr th:only-of-type {\n",
       "        vertical-align: middle;\n",
       "    }\n",
       "\n",
       "    .dataframe tbody tr th {\n",
       "        vertical-align: top;\n",
       "    }\n",
       "\n",
       "    .dataframe thead th {\n",
       "        text-align: right;\n",
       "    }\n",
       "</style>\n",
       "<table border=\"1\" class=\"dataframe\">\n",
       "  <thead>\n",
       "    <tr style=\"text-align: right;\">\n",
       "      <th></th>\n",
       "      <th>carat</th>\n",
       "      <th>cut</th>\n",
       "      <th>color</th>\n",
       "      <th>clarity</th>\n",
       "      <th>depth</th>\n",
       "      <th>table</th>\n",
       "      <th>x</th>\n",
       "      <th>y</th>\n",
       "      <th>z</th>\n",
       "    </tr>\n",
       "  </thead>\n",
       "  <tbody>\n",
       "    <tr>\n",
       "      <th>1</th>\n",
       "      <td>0.23</td>\n",
       "      <td>Ideal</td>\n",
       "      <td>E</td>\n",
       "      <td>SI2</td>\n",
       "      <td>61.5</td>\n",
       "      <td>55.0</td>\n",
       "      <td>3.95</td>\n",
       "      <td>3.98</td>\n",
       "      <td>2.43</td>\n",
       "    </tr>\n",
       "    <tr>\n",
       "      <th>2</th>\n",
       "      <td>0.21</td>\n",
       "      <td>Premium</td>\n",
       "      <td>E</td>\n",
       "      <td>SI1</td>\n",
       "      <td>59.8</td>\n",
       "      <td>61.0</td>\n",
       "      <td>3.89</td>\n",
       "      <td>3.84</td>\n",
       "      <td>2.31</td>\n",
       "    </tr>\n",
       "    <tr>\n",
       "      <th>3</th>\n",
       "      <td>0.23</td>\n",
       "      <td>Good</td>\n",
       "      <td>E</td>\n",
       "      <td>VS1</td>\n",
       "      <td>56.9</td>\n",
       "      <td>65.0</td>\n",
       "      <td>4.05</td>\n",
       "      <td>4.07</td>\n",
       "      <td>2.31</td>\n",
       "    </tr>\n",
       "    <tr>\n",
       "      <th>4</th>\n",
       "      <td>0.29</td>\n",
       "      <td>Premium</td>\n",
       "      <td>I</td>\n",
       "      <td>VS2</td>\n",
       "      <td>62.4</td>\n",
       "      <td>58.0</td>\n",
       "      <td>4.20</td>\n",
       "      <td>4.23</td>\n",
       "      <td>2.63</td>\n",
       "    </tr>\n",
       "    <tr>\n",
       "      <th>5</th>\n",
       "      <td>0.31</td>\n",
       "      <td>Good</td>\n",
       "      <td>J</td>\n",
       "      <td>SI2</td>\n",
       "      <td>63.3</td>\n",
       "      <td>58.0</td>\n",
       "      <td>4.34</td>\n",
       "      <td>4.35</td>\n",
       "      <td>2.75</td>\n",
       "    </tr>\n",
       "  </tbody>\n",
       "</table>\n",
       "</div>"
      ],
      "text/plain": [
       "   carat      cut color clarity  depth  table     x     y     z\n",
       "1   0.23    Ideal     E     SI2   61.5   55.0  3.95  3.98  2.43\n",
       "2   0.21  Premium     E     SI1   59.8   61.0  3.89  3.84  2.31\n",
       "3   0.23     Good     E     VS1   56.9   65.0  4.05  4.07  2.31\n",
       "4   0.29  Premium     I     VS2   62.4   58.0  4.20  4.23  2.63\n",
       "5   0.31     Good     J     SI2   63.3   58.0  4.34  4.35  2.75"
      ]
     },
     "execution_count": 5,
     "metadata": {},
     "output_type": "execute_result"
    }
   ],
   "source": [
    "X = diam_data.drop(columns=['price'])\n",
    "X.head()"
   ]
  },
  {
   "cell_type": "markdown",
   "id": "26910386-d494-4a95-b607-bf520d111671",
   "metadata": {},
   "source": [
    "We know a step is the log-transformation of our target variable."
   ]
  },
  {
   "cell_type": "code",
   "execution_count": 6,
   "id": "669c4c51-1332-4b40-ac5c-39b563bb775f",
   "metadata": {},
   "outputs": [],
   "source": [
    "target_transform = TransformedTargetRegressor(\n",
    "    regressor=None, #To be set for each model\n",
    "    func=np.log, #Use log-transform\n",
    "    inverse_func=np.exp #Inverse = exponential\n",
    ")"
   ]
  },
  {
   "cell_type": "markdown",
   "id": "109715c1-9f94-46ed-8708-a6217399c7c7",
   "metadata": {},
   "source": [
    "Another step includes binning the 'carat' column, before using it in the model.\n",
    "\n",
    "Scikit-learn does not have a simple function to achieve this with given bin edges, so we will create one that can be used in a pipeline."
   ]
  },
  {
   "cell_type": "code",
   "execution_count": 7,
   "id": "f991fcb4-54b7-4ba7-af43-1afcdaf13159",
   "metadata": {},
   "outputs": [],
   "source": [
    "from sklearn.base import BaseEstimator, TransformerMixin"
   ]
  },
  {
   "cell_type": "code",
   "execution_count": 8,
   "id": "bff9f21f-00e7-484b-a8e6-370930acd6ea",
   "metadata": {},
   "outputs": [],
   "source": [
    "class CustomBinDiscretizer(BaseEstimator, TransformerMixin):\n",
    "    def __init__(self, \n",
    "                 bins,\n",
    "                 right: 'bool' = True,\n",
    "                 labels=None,\n",
    "                 retbins: 'bool' = False,\n",
    "                 precision: 'int' = 3,\n",
    "                 include_lowest: 'bool' = False,\n",
    "                 duplicates: 'str' = 'raise',\n",
    "                 ordered: 'bool' = True):\n",
    "        self.bins = bins\n",
    "        self.right = right\n",
    "        self.labels = labels\n",
    "        self.retbins = retbins\n",
    "        self.precision = precision\n",
    "        self.include_lowest = include_lowest\n",
    "        self.duplicates = duplicates\n",
    "        self.ordered = ordered\n",
    "\n",
    "    def fit(self, X, y=None):\n",
    "        #Nothing to fit, given custom bins\n",
    "        return self\n",
    "\n",
    "    def transform(self, X, y=None):\n",
    "        assert isinstance(X, pd.DataFrame), (\"Only pandas dataframes can be used as inputs for this function\")\n",
    "        X_new = X.copy()\n",
    "        for col in X.columns:\n",
    "            X_new.loc[:, col] = pd.cut(x=X.loc[:, col].values, **self.__dict__)\n",
    "        return X_new"
   ]
  },
  {
   "cell_type": "code",
   "execution_count": 9,
   "id": "db88b193-f016-4a5d-97e3-d1d5a5fef345",
   "metadata": {},
   "outputs": [],
   "source": [
    "discretizer = CustomBinDiscretizer(\n",
    "    labels=False, #No labels, using int ordinal instead directly\n",
    "    bins=[0, .5, .75, 1, 1.5, 2, +np.inf]\n",
    ")"
   ]
  },
  {
   "cell_type": "markdown",
   "id": "2609a437-677d-46ec-90bc-b70543f86b38",
   "metadata": {},
   "source": [
    "Depending on the algorithm used, we may also need additional steps:\n",
    "- Encoding (ordinally, or one-hot) categorical variables\n",
    "- Standard-scaling numerical values"
   ]
  },
  {
   "cell_type": "code",
   "execution_count": 10,
   "id": "31864c39-ec65-4580-a363-e0dec3ea5640",
   "metadata": {},
   "outputs": [],
   "source": [
    "#Define ordinal order for the encoded categorical variables\n",
    "cut_order = ['Fair', 'Good', 'Very Good', 'Premium', 'Ideal']\n",
    "clarity_order = ['I1', 'SI2', 'SI1', 'VS2', 'VS1', 'VVS2', 'VVS1', 'IF']"
   ]
  },
  {
   "cell_type": "code",
   "execution_count": 11,
   "id": "abad7f22-fe3b-423c-a29b-dc403d8bc861",
   "metadata": {},
   "outputs": [],
   "source": [
    "#Initialize encoders\n",
    "oh_encoder = OneHotEncoder()\n",
    "or_encoder = OrdinalEncoder(categories = [cut_order, clarity_order])"
   ]
  },
  {
   "cell_type": "code",
   "execution_count": 12,
   "id": "d9014fae-636b-4ec3-8ac9-d2db52183ead",
   "metadata": {},
   "outputs": [],
   "source": [
    "scaler = StandardScaler()"
   ]
  },
  {
   "cell_type": "code",
   "execution_count": 13,
   "id": "4b4b3640-a36e-4f12-9c1d-b81af504cd9d",
   "metadata": {},
   "outputs": [],
   "source": [
    "preprocess = ColumnTransformer(\n",
    "    [\n",
    "        ('discretizer', discretizer, ['carat']),\n",
    "        ('oh_encoder', oh_encoder, ['color']),\n",
    "        ('or_encoder', or_encoder, ['cut', 'clarity']),\n",
    "        ('scaler', scaler, ['depth', 'table', 'x'])\n",
    "    ],\n",
    "    remainder='drop'\n",
    ")"
   ]
  },
  {
   "cell_type": "markdown",
   "id": "ab63ff1d-c65c-45f4-a109-3df44dc7fe02",
   "metadata": {},
   "source": [
    "We also need to impute missing 'x' data, using iterative imputation from scikit-learn."
   ]
  },
  {
   "cell_type": "code",
   "execution_count": 14,
   "id": "9e864aca-7aba-4fa6-bd79-ae3c83daaed6",
   "metadata": {},
   "outputs": [],
   "source": [
    "from sklearn.experimental import enable_iterative_imputer\n",
    "from sklearn.impute import IterativeImputer"
   ]
  },
  {
   "cell_type": "code",
   "execution_count": 15,
   "id": "04d5ceee-d4aa-4925-af2b-9f5645e06032",
   "metadata": {},
   "outputs": [],
   "source": [
    "imputer = IterativeImputer(missing_values=0, random_state=50)"
   ]
  },
  {
   "cell_type": "code",
   "execution_count": 16,
   "id": "d452e36a-a333-4dcd-b119-77df825d44d8",
   "metadata": {},
   "outputs": [],
   "source": [
    "prep_imputer = ColumnTransformer(\n",
    "    [('imputer', imputer, ['carat', 'x'])],\n",
    "    remainder='passthrough'\n",
    ")"
   ]
  },
  {
   "cell_type": "code",
   "execution_count": 17,
   "id": "f70e17a4-3ed9-41cc-ad30-abdfa9460efc",
   "metadata": {},
   "outputs": [],
   "source": [
    "from sklearn.linear_model import SGDRegressor\n",
    "from sklearn.svm import SVR\n",
    "from sklearn.neighbors import KNeighborsRegressor\n",
    "from lightgbm import LGBMRegressor"
   ]
  },
  {
   "cell_type": "code",
   "execution_count": null,
   "id": "690dbbd3-9ce4-4d78-ac32-869701f8f594",
   "metadata": {},
   "outputs": [],
   "source": []
  }
 ],
 "metadata": {
  "kernelspec": {
   "display_name": "Python 3 (ipykernel)",
   "language": "python",
   "name": "python3"
  },
  "language_info": {
   "codemirror_mode": {
    "name": "ipython",
    "version": 3
   },
   "file_extension": ".py",
   "mimetype": "text/x-python",
   "name": "python",
   "nbconvert_exporter": "python",
   "pygments_lexer": "ipython3",
   "version": "3.9.12"
  }
 },
 "nbformat": 4,
 "nbformat_minor": 5
}
